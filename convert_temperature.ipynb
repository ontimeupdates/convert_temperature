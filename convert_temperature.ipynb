{
 "cells": [
  {
   "cell_type": "code",
   "execution_count": 1,
   "id": "00ad6b7e-69a8-4c17-aa15-d3818cc7a547",
   "metadata": {
    "scrolled": true
   },
   "outputs": [
    {
     "name": "stdout",
     "output_type": "stream",
     "text": [
      "0.0\n",
      "212.0\n"
     ]
    }
   ],
   "source": [
    "def convert_temperature(temperature, unit):\n",
    "    if unit == 'F':\n",
    "        converted_temperature = (temperature - 32) * 5/9\n",
    "    elif unit == 'C':\n",
    "        converted_temperature = (temperature * 9/5) + 32\n",
    "    else:\n",
    "        return \"Invalid unit. Please enter 'F' for Fahrenheit or 'C' for Celsius.\"\n",
    "    \n",
    "    return round(converted_temperature, 2)\n",
    "\n",
    "\n",
    "print(convert_temperature(32, 'F')) \n",
    "print(convert_temperature(100, 'C')) \n"
   ]
  },
  {
   "cell_type": "code",
   "execution_count": null,
   "id": "e83b70cc-a198-4d2f-a0b9-42e170f11208",
   "metadata": {},
   "outputs": [],
   "source": []
  }
 ],
 "metadata": {
  "kernelspec": {
   "display_name": "Python 3 (ipykernel)",
   "language": "python",
   "name": "python3"
  },
  "language_info": {
   "codemirror_mode": {
    "name": "ipython",
    "version": 3
   },
   "file_extension": ".py",
   "mimetype": "text/x-python",
   "name": "python",
   "nbconvert_exporter": "python",
   "pygments_lexer": "ipython3",
   "version": "3.11.7"
  }
 },
 "nbformat": 4,
 "nbformat_minor": 5
}
